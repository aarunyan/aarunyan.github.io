{
  "nbformat": 4,
  "nbformat_minor": 0,
  "metadata": {
    "colab": {
      "provenance": [],
      "authorship_tag": "ABX9TyOOp5UKuPftiMpQjCR4GsRQ",
      "include_colab_link": true
    },
    "kernelspec": {
      "name": "python3",
      "display_name": "Python 3"
    },
    "language_info": {
      "name": "python"
    }
  },
  "cells": [
    {
      "cell_type": "markdown",
      "metadata": {
        "id": "view-in-github",
        "colab_type": "text"
      },
      "source": [
        "<a href=\"https://colab.research.google.com/github/aarunyan/aarunyan.github.io/blob/main/SOP.ipynb\" target=\"_parent\"><img src=\"https://colab.research.google.com/assets/colab-badge.svg\" alt=\"Open In Colab\"/></a>"
      ]
    },
    {
      "cell_type": "markdown",
      "source": [
        "### Upload the image on google drive.\n",
        "1. Enable link sharing (Right click on image > Get shareable link)\n",
        "2. Change access type from 'Restricted' to 'Anyone with link', keep role as 'Viewer', click 'Done'(pop up should close).\n",
        "3. Double click on image, Spot 'More actions' icon(top right corner, 3 vertical dots).. click on it and next select 'Open in new tab' from the more action menu, a new windows opens.\n",
        "4. Now again, spot 'More actions' icon(top right corner, 3 vertical dots).. click on it and select 'Embed item'. It will give you a HTML 'Embed snippet'.\n",
        "5. Copy that HTML snippet and paste it in your Colab noteboook inside a markdown or code cell.\n",
        "\n",
        "- If you use a code cell, you can use magic function %%html (change iframe width and height for your needs).\n"
      ],
      "metadata": {
        "id": "waUcZ1StESnv"
      }
    },
    {
      "cell_type": "code",
      "source": [
        "%%html\n",
        "<iframe src=\"https://drive.google.com/file/d/1vJHPjKVcHDTf7wy7kelrYBwcBLizYFuQ/preview\" width=\"600\" height=\"300\"></iframe>\n",
        "<iframe src=\"https://drive.google.com/file/d/124uPDAiHfmSgCmKmbdYv9BCRzwv1nULG/preview\" width=\"600\" height=\"300\"></iframe>\n",
        "<iframe src=\"https://drive.google.com/file/d/17Y3GoENFcv0_XLAJjUUlydV71AfSuxzt/preview\" width=\"600\" height=\"300\"></iframe>\n",
        "<iframe src=\"https://drive.google.com/file/d/197rpz98j2mUaOhfpho63iHCngFOhVsZx/preview\" width=\"600\" height=\"300\"></iframe>\n",
        "<iframe src=\"https://drive.google.com/file/d/1ZGXCRE0oRpurbxH5Ej1IC0NlvECSMf8v/preview\" width=\"600\" height=\"300\"></iframe>\n"
      ],
      "metadata": {
        "colab": {
          "base_uri": "https://localhost:8080/",
          "height": 941
        },
        "id": "PlVIHN67EJsD",
        "outputId": "086ac38f-04a6-4ead-cb1a-cd9e95f1708a"
      },
      "execution_count": 20,
      "outputs": [
        {
          "output_type": "display_data",
          "data": {
            "text/plain": [
              "<IPython.core.display.HTML object>"
            ],
            "text/html": [
              "<iframe src=\"https://drive.google.com/file/d/1vJHPjKVcHDTf7wy7kelrYBwcBLizYFuQ/preview\" width=\"600\" height=\"300\"></iframe>\n",
              "<iframe src=\"https://drive.google.com/file/d/124uPDAiHfmSgCmKmbdYv9BCRzwv1nULG/preview\" width=\"600\" height=\"300\"></iframe>\n",
              "<iframe src=\"https://drive.google.com/file/d/17Y3GoENFcv0_XLAJjUUlydV71AfSuxzt/preview\" width=\"600\" height=\"300\"></iframe>\n",
              "<iframe src=\"https://drive.google.com/file/d/197rpz98j2mUaOhfpho63iHCngFOhVsZx/preview\" width=\"600\" height=\"300\"></iframe>\n",
              "<iframe src=\"https://drive.google.com/file/d/1ZGXCRE0oRpurbxH5Ej1IC0NlvECSMf8v/preview\" width=\"600\" height=\"300\"></iframe>\n"
            ]
          },
          "metadata": {}
        }
      ]
    },
    {
      "cell_type": "markdown",
      "source": [
        "### Flash Jetpack into memory\n",
        "\n",
        "- There are 2 options to flash Jetpack into memory:\n",
        " 1. microSD card (64GB or bigger)\n",
        " 2. NVMe SSD (Optional, but highly recommended for following tutorials on this site)\n",
        "\n",
        "\n",
        "- Reference: https://www.jetson-ai-lab.com/initial_setup_jon.html#6-boot-with-jetpack-6x-sd-card\n",
        "\n",
        "- High-level step:\n",
        "1. Check if Jetson UEFI Firmware is newer than version 36.0\n",
        "    -  1.1 Connect your monitor and USB keyboard to your developer kit.\n",
        "    - 1.2 Turn on the developer kit by plugging in the bundled DC power supply\n",
        "    - 1.3 Repeatedly press  Esc  key on the keyboard, especially after NVIDIA logo boot splash screen first appears on the monitor\n",
        "    - 1.4 You should see UEFI setup menu screen\n",
        "    - 1.5 Check the third line from the top (below \"Not specified\"), which should be the version number of Jetson UEFI firmware\n",
        "\n",
        "\n"
      ],
      "metadata": {
        "id": "K6yqmwnq9rym"
      }
    },
    {
      "cell_type": "code",
      "execution_count": 21,
      "metadata": {
        "colab": {
          "base_uri": "https://localhost:8080/",
          "height": 325
        },
        "id": "8oa_3U19umz8",
        "outputId": "7cd8cbdc-b380-422a-a81a-d1267096ab7d"
      },
      "outputs": [
        {
          "output_type": "display_data",
          "data": {
            "text/plain": [
              "<IPython.core.display.HTML object>"
            ],
            "text/html": [
              "<iframe src=\"https://drive.google.com/file/d/1TtxNKUGRaBVQkOw94Ialdqb0if1rqTjA/preview\" width=\"600\" height=\"300\"></iframe>\n"
            ]
          },
          "metadata": {}
        }
      ],
      "source": [
        "#How to check UEFI firmware\n",
        "\n",
        "%%html\n",
        "<iframe src=\"https://drive.google.com/file/d/1TtxNKUGRaBVQkOw94Ialdqb0if1rqTjA/preview\" width=\"600\" height=\"300\"></iframe>"
      ]
    },
    {
      "cell_type": "markdown",
      "source": [
        "### Boot with JetPack 6.x SD card\n",
        "\n",
        "2. Once we know the onboard firmware is up-to-date and ready for JetPack 6.x, we can boot Jetson Orin Nano Developer Kit with a microSD card for JetPack 6.2.\n",
        "\n",
        "    - Download SD card image on to your PC : On your PC, download the latest JetPack 6.x image for Jetson Orin Nano Developer Kit from the official JetPack page or from the below direct link button\n",
        "3. Use Balena Etcher to flash image to SD card\n",
        "    - Insert your microSD card into your PC's SD card slot, and use Balena Etcher to flash the SD card with the image you just downloaded.\n",
        "    - If you don't have Balena Etcher on your PC, download from Balena official site . (https://etcher.balena.io/)"
      ],
      "metadata": {
        "id": "HYWBuZVjFiNO"
      }
    },
    {
      "cell_type": "code",
      "source": [
        "%%html\n",
        "<iframe src=\"https://drive.google.com/file/d/10QE0BAVNX1Od43jtbkp5V-32SPj6r15P/preview\" width=\"640\" height=\"480\" allow=\"autoplay\"></iframe>"
      ],
      "metadata": {
        "colab": {
          "base_uri": "https://localhost:8080/",
          "height": 505
        },
        "id": "4Sc4VDv2HHRg",
        "outputId": "2c1d28c1-d357-4d74-b904-aba253179f34"
      },
      "execution_count": 22,
      "outputs": [
        {
          "output_type": "display_data",
          "data": {
            "text/plain": [
              "<IPython.core.display.HTML object>"
            ],
            "text/html": [
              "<iframe src=\"https://drive.google.com/file/d/10QE0BAVNX1Od43jtbkp5V-32SPj6r15P/preview\" width=\"640\" height=\"480\" allow=\"autoplay\"></iframe>\n"
            ]
          },
          "metadata": {}
        }
      ]
    },
    {
      "cell_type": "markdown",
      "source": [
        "4. Insert the JetPack 6.2 microSD card into the slot on Jetson module\n",
        "\n"
      ],
      "metadata": {
        "id": "3DMSgVQcHRTV"
      }
    },
    {
      "cell_type": "code",
      "source": [
        "%%html\n",
        "<iframe src=\"https://drive.google.com/file/d/1rl_MvrgwLdZPecWDmTxkL43571rohwrG/preview\" width=\"640\" height=\"480\" allow=\"autoplay\"></iframe>"
      ],
      "metadata": {
        "colab": {
          "base_uri": "https://localhost:8080/",
          "height": 505
        },
        "id": "yZBy_9T9HnVm",
        "outputId": "a4b655a1-0aa0-4c32-a91d-91d6686677f6"
      },
      "execution_count": 23,
      "outputs": [
        {
          "output_type": "display_data",
          "data": {
            "text/plain": [
              "<IPython.core.display.HTML object>"
            ],
            "text/html": [
              "<iframe src=\"https://drive.google.com/file/d/1rl_MvrgwLdZPecWDmTxkL43571rohwrG/preview\" width=\"640\" height=\"480\" allow=\"autoplay\"></iframe>\n"
            ]
          },
          "metadata": {}
        }
      ]
    },
    {
      "cell_type": "markdown",
      "source": [
        "5. Power-on by plugging the DC power supply\n",
        "6. Complete the initial software setup ( oem-config )\n",
        "7. Ensure firmware update is scheduled.\n",
        "JetPack 6.2 SD card will automatically schedule another firmware/bootloader update in the next (3rd and final) reboot cycle."
      ],
      "metadata": {
        "id": "SWYdJd1eHltM"
      }
    },
    {
      "cell_type": "code",
      "source": [
        "%%html\n",
        "<iframe src=\"https://drive.google.com/file/d/1EmmGWVOFsi9I3P1MmTH5cISIMmEM3MVD/preview\" width=\"640\" height=\"480\" allow=\"autoplay\"></iframe>"
      ],
      "metadata": {
        "colab": {
          "base_uri": "https://localhost:8080/",
          "height": 505
        },
        "id": "XioMKyNcH4W1",
        "outputId": "7790979c-c5c3-40df-965d-28ddb2a731bb"
      },
      "execution_count": 24,
      "outputs": [
        {
          "output_type": "display_data",
          "data": {
            "text/plain": [
              "<IPython.core.display.HTML object>"
            ],
            "text/html": [
              "<iframe src=\"https://drive.google.com/file/d/1EmmGWVOFsi9I3P1MmTH5cISIMmEM3MVD/preview\" width=\"640\" height=\"480\" allow=\"autoplay\"></iframe>\n"
            ]
          },
          "metadata": {}
        }
      ]
    },
    {
      "cell_type": "markdown",
      "source": [
        "\n",
        "docker cp <containerId>:/file/path/within/container /host/path/target\n",
        "\n",
        "https://stackoverflow.com/questions/22049212/copying-files-from-docker-container-to-host\n",
        "\n",
        "https://docs.docker.com/reference/cli/docker/container/cp/"
      ],
      "metadata": {
        "id": "Y-qKm_uOuntF"
      }
    },
    {
      "cell_type": "markdown",
      "source": [
        "###Boots into black screen with a blinking cursor after update&reboot\n",
        "\n",
        "Reference: https://nvidia-jetson.piveral.com/jetson-orin-nano/boots-into-black-screen-with-a-blinking-cursor-after-updatereboot/\n",
        "\n",
        "- This problem typically occurs after executing standard maintenance commands like sudo update and upgrade, particularly when users attempt to reboot the system afterward. The issue has been reported consistently by multiple users, indicating that it is not isolated."
      ],
      "metadata": {
        "id": "blliGsMi-r5q"
      }
    }
  ]
}